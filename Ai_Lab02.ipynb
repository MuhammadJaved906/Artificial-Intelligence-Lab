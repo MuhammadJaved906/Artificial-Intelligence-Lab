{
  "nbformat": 4,
  "nbformat_minor": 0,
  "metadata": {
    "colab": {
      "provenance": []
    },
    "kernelspec": {
      "name": "python3",
      "display_name": "Python 3"
    },
    "language_info": {
      "name": "python"
    }
  },
  "cells": [
    {
      "cell_type": "markdown",
      "source": [
        "Python File I/O\n"
      ],
      "metadata": {
        "id": "QpmhwzA47pFO"
      }
    },
    {
      "cell_type": "markdown",
      "source": [
        "Activity 1: Create and Write to a Text File"
      ],
      "metadata": {
        "id": "jNk-YEWN7sTe"
      }
    },
    {
      "cell_type": "code",
      "source": [
        "file = open(\"notes.txt\", \"w\") # 'w' mode creates or overwrites\n",
        "file.write(\"Welcome to the File Handling Lab!\\n\")\n",
        "file.write(\"This is the first line of text.\")\n",
        "file.close()\n",
        "print(\"File created and text written successfully.\")\n"
      ],
      "metadata": {
        "colab": {
          "base_uri": "https://localhost:8080/"
        },
        "id": "4RkAv4oh7xG1",
        "outputId": "6646f857-c56b-4998-9fcb-dfc2867daa2c"
      },
      "execution_count": 1,
      "outputs": [
        {
          "output_type": "stream",
          "name": "stdout",
          "text": [
            "File created and text written successfully.\n"
          ]
        }
      ]
    },
    {
      "cell_type": "markdown",
      "source": [
        "Activity 2: Read Content from a File"
      ],
      "metadata": {
        "id": "Xy45vzKc8Yiu"
      }
    },
    {
      "cell_type": "code",
      "source": [
        "file = open(\"notes.txt\", \"w\") # 'w' mode creates or overwrites\n",
        "file.write(\"Welcome to the File Handling Lab!\\n\")\n",
        "file.write(\"This is the first line of text.\")\n",
        "file.close()\n",
        "print(\"File created and text written successfully.\")\n",
        "file = open(\"notes.txt\", \"r\")\n",
        "content = file.read()\n",
        "file.close()\n",
        "print(\"File Content:\\n\", content)\n"
      ],
      "metadata": {
        "colab": {
          "base_uri": "https://localhost:8080/"
        },
        "id": "EyfmYS0-9WNd",
        "outputId": "17207844-7ade-46d8-faf0-4d49dcce92c2"
      },
      "execution_count": 5,
      "outputs": [
        {
          "output_type": "stream",
          "name": "stdout",
          "text": [
            "File created and text written successfully.\n",
            "File Content:\n",
            " Welcome to the File Handling Lab!\n",
            "This is the first line of text.\n"
          ]
        }
      ]
    },
    {
      "cell_type": "markdown",
      "source": [
        "Activity 3: Append Data to an Existing File"
      ],
      "metadata": {
        "id": "-texyPs49m1K"
      }
    },
    {
      "cell_type": "code",
      "source": [
        "file = open(\"notes.txt\", \"w\") # 'w' mode creates or overwrites\n",
        "file.write(\"Welcome to the File Handling Lab!\\n\")\n",
        "file.write(\"This is the first line of text.\")\n",
        "file.close()\n",
        "print(\"File created and text written successfully.\")\n",
        "file = open(\"notes.txt\", \"r\")\n",
        "content = file.read()\n",
        "file.close()\n",
        "print(\"File Content:\\n\", content)\n",
        "file = open(\"notes.txt\", \"a\") # 'a' mode appends\n",
        "file.write(\"\\nThis line was appended later.\")\n",
        "file.close()"
      ],
      "metadata": {
        "colab": {
          "base_uri": "https://localhost:8080/"
        },
        "id": "HlhQZqnm9-Gn",
        "outputId": "a172d27f-5c33-4967-efd6-ab1cc9d91d2b"
      },
      "execution_count": 9,
      "outputs": [
        {
          "output_type": "stream",
          "name": "stdout",
          "text": [
            "File created and text written successfully.\n",
            "File Content:\n",
            " Welcome to the File Handling Lab!\n",
            "This is the first line of text.\n"
          ]
        }
      ]
    },
    {
      "cell_type": "markdown",
      "source": [
        "Activity 4: Read File Line by Line"
      ],
      "metadata": {
        "id": "R7uOU8Pd-VCN"
      }
    },
    {
      "cell_type": "code",
      "source": [
        "file = open(\"notes.txt\", \"w\") # 'w' mode creates or overwrites\n",
        "file.write(\"Welcome to the File Handling Lab!\\n\")\n",
        "file.write(\"This is the first line of text.\")\n",
        "file.close()\n",
        "print(\"File created and text written successfully.\")\n",
        "file = open(\"notes.txt\", \"r\")\n",
        "content = file.read()\n",
        "file.close()\n",
        "print(\"File Content:\\n\", content)\n",
        "file = open(\"notes.txt\", \"a\") # 'a' mode appends\n",
        "file.write(\"\\nThis line was appended later.\")\n",
        "file.close()\n",
        "with open(\"notes.txt\", \"r\") as file:\n",
        " for line in file:\n",
        "  print(line.strip())"
      ],
      "metadata": {
        "colab": {
          "base_uri": "https://localhost:8080/"
        },
        "id": "U0A3DbRl-WFk",
        "outputId": "8be6ecca-93ee-4b2f-9988-565b1dc9d5e4"
      },
      "execution_count": 10,
      "outputs": [
        {
          "output_type": "stream",
          "name": "stdout",
          "text": [
            "File created and text written successfully.\n",
            "File Content:\n",
            " Welcome to the File Handling Lab!\n",
            "This is the first line of text.\n",
            "Welcome to the File Handling Lab!\n",
            "This is the first line of text.\n",
            "This line was appended later.\n"
          ]
        }
      ]
    },
    {
      "cell_type": "markdown",
      "source": [
        "Activity 5: Exception Handling for Missing Files"
      ],
      "metadata": {
        "id": "1u5hCSpN-ouE"
      }
    },
    {
      "cell_type": "code",
      "source": [
        "try:\n",
        "  with open(\"nofile.txt\", \"r\") as f:\n",
        "   print(f.read())\n",
        "except FileNotFoundError:\n",
        "    print(\"Error: The file does not exist!\")"
      ],
      "metadata": {
        "colab": {
          "base_uri": "https://localhost:8080/"
        },
        "id": "KCmRLurZ_Chy",
        "outputId": "de57fea0-9a36-451c-bcdf-c0145b1601ee"
      },
      "execution_count": 12,
      "outputs": [
        {
          "output_type": "stream",
          "name": "stdout",
          "text": [
            "Error: The file does not exist!\n"
          ]
        }
      ]
    },
    {
      "cell_type": "markdown",
      "source": [
        "Activity 6: Handling Multiple Exceptions"
      ],
      "metadata": {
        "id": "8S20jhVh_LM7"
      }
    },
    {
      "cell_type": "code",
      "source": [
        "try:\n",
        "     number = int(input(\"Enter a number: \"))\n",
        "     result = 10 / number\n",
        "     print(\"Result:\", result)\n",
        "except ValueError:\n",
        " print(\"Invalid input! Please enter a number.\")\n",
        "except ZeroDivisionError:\n",
        " print(\"Division by zero is not allowed.\")\n",
        "finally:\n",
        " print(\"Operation Completed.\")"
      ],
      "metadata": {
        "colab": {
          "base_uri": "https://localhost:8080/"
        },
        "id": "NHx9raMo_PBS",
        "outputId": "6cc9d7f2-6ec6-4754-a867-39ef8202a7a2"
      },
      "execution_count": 14,
      "outputs": [
        {
          "output_type": "stream",
          "name": "stdout",
          "text": [
            "Enter a number: 7\n",
            "Result: 1.4285714285714286\n",
            "Operation Completed.\n"
          ]
        }
      ]
    },
    {
      "cell_type": "markdown",
      "source": [
        "Automate File Operations"
      ],
      "metadata": {
        "id": "J1ChYeyHABHB"
      }
    },
    {
      "cell_type": "markdown",
      "source": [
        "Activity 7: File Statistics (Line, Word & Character Count)"
      ],
      "metadata": {
        "id": "_WbTj25rAHny"
      }
    },
    {
      "cell_type": "code",
      "source": [
        "def file_stats(filename):\n",
        "  try:\n",
        "       with open(filename, \"r\", encoding=\"utf-8\") as f:\n",
        "        text = f.read()\n",
        "       lines = text.splitlines()\n",
        "       words = text.split()\n",
        "       print(f\"Lines: {len(lines)}, Words: {len(words)}, Characters: {len(text)}\")\n",
        "  except FileNotFoundError:\n",
        "     print(\"Error: File not found.\")\n",
        "file_stats(\"big_text.txt\")"
      ],
      "metadata": {
        "colab": {
          "base_uri": "https://localhost:8080/"
        },
        "id": "3FS2FuYQAKeB",
        "outputId": "fb709913-2600-4aa0-9201-1c78775f3045"
      },
      "execution_count": 16,
      "outputs": [
        {
          "output_type": "stream",
          "name": "stdout",
          "text": [
            "Error: File not found.\n"
          ]
        }
      ]
    },
    {
      "cell_type": "markdown",
      "source": [
        "Activity 8: Merge Multiple Files into One"
      ],
      "metadata": {
        "id": "WgkI09x-BOxQ"
      }
    },
    {
      "cell_type": "code",
      "source": [
        "import os, glob\n",
        "def merge_text_files(folder, output_file):\n",
        "  with open(output_file, \"w\", encoding=\"utf-8\") as outfile:\n",
        "    for txt_file in glob.glob(os.path.join(folder, \"*.txt\")):\n",
        "      try:\n",
        "        with open(txt_file, \"r\", encoding=\"utf-8\") as infile:\n",
        "          outfile.write(infile.read() + \"\\n\")\n",
        "      except Exception as e:\n",
        "        print(f\"Skipped {txt_file}: {e}\")\n",
        "merge_text_files(\"https://drive.google.com/drive/home\", \"merged_output.txt\")"
      ],
      "metadata": {
        "id": "wPMpSpR7BQdi"
      },
      "execution_count": 42,
      "outputs": []
    },
    {
      "cell_type": "markdown",
      "source": [
        "Perform Data Analysis"
      ],
      "metadata": {
        "id": "s_V1BX2hJqNM"
      }
    },
    {
      "cell_type": "markdown",
      "source": [
        "Activity 9: CSV Reader and Analyzer"
      ],
      "metadata": {
        "id": "Ak4UwL2QJuXT"
      }
    },
    {
      "cell_type": "code",
      "source": [
        "import csv\n",
        "def analyze_csv(file):\n",
        "    try:\n",
        "        with open(file, newline='', encoding=\"utf-8\") as f:\n",
        "            reader = csv.DictReader(f)\n",
        "            totals, counts = {}, {}\n",
        "            for row in reader:\n",
        "                for subject, mark in row.items():\n",
        "                    if subject != 'Name':\n",
        "                        try:\n",
        "                            mark = float(mark)\n",
        "                            totals[subject] = totals.get(subject, 0) + mark\n",
        "                            counts[subject] = counts.get(subject, 0) + 1\n",
        "                        except ValueError:\n",
        "                            print(f\"Invalid mark in row: {row}\")\n",
        "            for subject in totals:\n",
        "                print(f\"{subject}: {totals[subject]/counts[subject]:.2f}\")\n",
        "\n",
        "    except FileNotFoundError:\n",
        "        print(\"CSV file not found.\")\n",
        "analyze_csv(\"marks.csv\")"
      ],
      "metadata": {
        "colab": {
          "base_uri": "https://localhost:8080/"
        },
        "id": "jPAmxmc0Jxpb",
        "outputId": "6c88eea5-ec4b-4cb3-fd41-3d7023796766"
      },
      "execution_count": 23,
      "outputs": [
        {
          "output_type": "stream",
          "name": "stdout",
          "text": [
            "Invalid mark in row: {'Name': 'Bob', 'Math': '78', 'Science': 'abc', 'English': '83', 'History': '76'}\n",
            "Invalid mark in row: {'Name': 'Ethan', 'Math': '90', 'Science': '85', 'English': 'xyz', 'History': '88'}\n",
            "Math: 87.20\n",
            "Science: 89.75\n",
            "English: 87.25\n",
            "History: nan\n"
          ]
        }
      ]
    },
    {
      "cell_type": "markdown",
      "source": [
        "Activity 10: JSON Config Loader with Fallback"
      ],
      "metadata": {
        "id": "292RHtGBLtrZ"
      }
    },
    {
      "cell_type": "code",
      "source": [
        "import json\n",
        "def load_config(path):\n",
        "    default_config = {\"theme\": \"light\", \"autosave\": True, \"interval\": 5}\n",
        "    try:\n",
        "        with open(path, \"r\", encoding=\"utf-8\") as f:\n",
        "            return json.load(f)\n",
        "    except (FileNotFoundError, json.JSONDecodeError) as e:\n",
        "        print(f\"Config error ({e}), using defaults.\")\n",
        "        return default_config\n",
        "config = load_config(\"configg.json\")\n",
        "print(\"Configuration Loaded:\", config)"
      ],
      "metadata": {
        "colab": {
          "base_uri": "https://localhost:8080/"
        },
        "id": "6m8_3-m6RIcj",
        "outputId": "e3d8f3e3-5660-46a7-8995-6c3133ae86ca"
      },
      "execution_count": 30,
      "outputs": [
        {
          "output_type": "stream",
          "name": "stdout",
          "text": [
            "Configuration Loaded: {'theme': 'dark', 'autosave': False, 'interval': 10, 'language': 'en', 'notifications': True}\n"
          ]
        }
      ]
    },
    {
      "cell_type": "markdown",
      "source": [
        "Integrate Logging for Auditing and Debugging"
      ],
      "metadata": {
        "id": "riDM5TXHReij"
      }
    },
    {
      "cell_type": "markdown",
      "source": [
        "Activity 11: Transaction Logger with Exception Logging"
      ],
      "metadata": {
        "id": "Up5uA1d7RiWh"
      }
    },
    {
      "cell_type": "code",
      "source": [
        "import logging\n",
        "\n",
        "# Set up logging to a file in the Colab session\n",
        "logging.basicConfig(\n",
        "    filename=\"transactions.log\",\n",
        "    level=logging.INFO,\n",
        "    format=\"%(asctime)s - %(levelname)s - %(message)s\",\n",
        "    force=True\n",
        ")\n",
        "\n",
        "def transfer(amount, balance):\n",
        "    try:\n",
        "        if amount <= 0:\n",
        "            raise ValueError(\"Amount must be positive.\")\n",
        "        if amount > balance:\n",
        "            raise ValueError(\"Insufficient funds.\")\n",
        "        balance -= amount\n",
        "        logging.info(f\"Transferred {amount}, Remaining balance: {balance}\")\n",
        "        return balance\n",
        "    except ValueError as e:\n",
        "        logging.error(f\"Transaction failed: {e}\")\n",
        "        print(\"Transaction Error:\", e)\n",
        "        return balance\n",
        "\n",
        "# Initial balance\n",
        "balance = 500\n",
        "\n",
        "# Perform transactions\n",
        "balance = transfer(200, balance)\n",
        "balance = transfer(1000, balance)\n",
        "\n",
        "# --- This is the part that lets you see the log file content ---\n",
        "print(\"\\n--- Contents of transactions.log ---\")\n",
        "try:\n",
        "    with open(\"transactions.log\", \"r\") as f:\n",
        "        print(f.read())\n",
        "except FileNotFoundError:\n",
        "    print(\"Log file not found.\")"
      ],
      "metadata": {
        "colab": {
          "base_uri": "https://localhost:8080/"
        },
        "id": "8ovMdwBTRkjK",
        "outputId": "1e987b03-ef1f-437b-a53a-a918d8e0d549"
      },
      "execution_count": 43,
      "outputs": [
        {
          "output_type": "stream",
          "name": "stdout",
          "text": [
            "Transaction Error: Insufficient funds.\n",
            "\n",
            "--- Contents of transactions.log ---\n",
            "fgdthftj2025-09-26 09:32:41,700 - INFO - Transferred 200, Remaining balance: 300\n",
            "2025-09-26 09:32:41,701 - ERROR - Transaction failed: Insufficient funds.\n",
            "\n"
          ]
        }
      ]
    }
  ]
}