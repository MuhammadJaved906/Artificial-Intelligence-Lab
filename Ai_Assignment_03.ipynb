{
  "nbformat": 4,
  "nbformat_minor": 0,
  "metadata": {
    "colab": {
      "provenance": []
    },
    "kernelspec": {
      "name": "python3",
      "display_name": "Python 3"
    },
    "language_info": {
      "name": "python"
    }
  },
  "cells": [
    {
      "cell_type": "markdown",
      "source": [
        "Exercises for Students (Attempt in Lab)"
      ],
      "metadata": {
        "id": "FvL84Dgu96O3"
      }
    },
    {
      "cell_type": "markdown",
      "source": [
        "1.Copy File Content"
      ],
      "metadata": {
        "id": "7_zqjoaC-AdI"
      }
    },
    {
      "cell_type": "code",
      "source": [
        "import os\n",
        "\n",
        "def copy_file(src='source.txt', dst='backup.txt'):\n",
        "\n",
        "    if not os.path.exists(src):\n",
        "        with open(src, 'w', encoding='utf-8') as f:\n",
        "            f.write(\"This is a demo source file.\\nAdd your own lines and re-run the cell.\")\n",
        "        print(f\"Created demo file '{src}'.\")\n",
        "\n",
        "    with open(src, 'r', encoding='utf-8') as fsrc:\n",
        "        content = fsrc.read()\n",
        "\n",
        "    with open(dst, 'w', encoding='utf-8') as fdst:\n",
        "        fdst.write(content)\n",
        "    print(f\"Copied '{src}' -> '{dst}'\")\n",
        "\n",
        "\n",
        "copy_file()"
      ],
      "metadata": {
        "colab": {
          "base_uri": "https://localhost:8080/"
        },
        "id": "CL53_1qH-nHf",
        "outputId": "b9735fc7-dc21-461c-cce1-4be08caafc4f"
      },
      "execution_count": 2,
      "outputs": [
        {
          "output_type": "stream",
          "name": "stdout",
          "text": [
            "Copied 'source.txt' -> 'backup.txt'\n"
          ]
        }
      ]
    },
    {
      "cell_type": "markdown",
      "source": [
        "2. Count Words in a File"
      ],
      "metadata": {
        "id": "nRbxfrOvAMJw"
      }
    },
    {
      "cell_type": "code",
      "source": [
        "\n",
        "import re\n",
        "\n",
        "def count_words(filename='source.txt'):\n",
        "    try:\n",
        "        with open(filename, 'r', encoding='utf-8') as f:\n",
        "            text = f.read()\n",
        "    except FileNotFoundError:\n",
        "        print(f\"File '{filename}' not found. Create it or upload it to Colab and re-run.\")\n",
        "        return 0\n",
        "\n",
        "    )\n",
        "    words = re.findall(r\"\\b[\\w']+\\b\", text)\n",
        "    n = len(words)\n",
        "    print(f\"'{filename}' contains {n} words.\")\n",
        "    return n\n",
        "\n",
        "\n",
        "count_words('source.txt')\n"
      ],
      "metadata": {
        "colab": {
          "base_uri": "https://localhost:8080/"
        },
        "id": "bXzLSrX7AUcx",
        "outputId": "147fa9f7-dda9-4a4d-d366-d32b92b38962"
      },
      "execution_count": 3,
      "outputs": [
        {
          "output_type": "stream",
          "name": "stdout",
          "text": [
            "'source.txt' contains 15 words.\n"
          ]
        },
        {
          "output_type": "execute_result",
          "data": {
            "text/plain": [
              "15"
            ]
          },
          "metadata": {},
          "execution_count": 3
        }
      ]
    },
    {
      "cell_type": "markdown",
      "source": [
        "3. Student Marks (create file if not exists)"
      ],
      "metadata": {
        "id": "__yg0FTfArxe"
      }
    },
    {
      "cell_type": "code",
      "source": [
        "\n",
        "def ensure_marks_file():\n",
        "    fname = input(\"Enter filename for student marks (e.g. marks.txt): \").strip()\n",
        "    if not fname:\n",
        "        print(\"No filename provided. Using 'marks.txt'.\")\n",
        "        fname = 'marks.txt'\n",
        "    try:\n",
        "        with open(fname, 'r', encoding='utf-8') as f:\n",
        "            print(f\"File '{fname}' exists. Contents:\")\n",
        "            print(\"-\" * 40)\n",
        "            print(f.read())\n",
        "            print(\"-\" * 40)\n",
        "    except FileNotFoundError:\n",
        "        print(f\"File '{fname}' not found. Creating with default message...\")\n",
        "        with open(fname, 'w', encoding='utf-8') as f:\n",
        "            f.write(\"No marks recorded\")\n",
        "        print(f\"Created '{fname}' with default message.\")\n",
        "\n",
        "\n",
        "ensure_marks_file()\n"
      ],
      "metadata": {
        "colab": {
          "base_uri": "https://localhost:8080/"
        },
        "id": "KyhUIv_lAvy3",
        "outputId": "df74a7de-00a6-4628-955c-b3262ddb0b30"
      },
      "execution_count": 4,
      "outputs": [
        {
          "output_type": "stream",
          "name": "stdout",
          "text": [
            "Enter filename for student marks (e.g. marks.txt): gdsg\n",
            "File 'gdsg' not found. Creating with default message...\n",
            "Created 'gdsg' with default message.\n"
          ]
        }
      ]
    },
    {
      "cell_type": "markdown",
      "source": [
        "4. Safe Division Logger"
      ],
      "metadata": {
        "id": "YzG6e-43BMWj"
      }
    },
    {
      "cell_type": "code",
      "source": [
        "\n",
        "import logging\n",
        "\n",
        "def safe_division_logger(out_file='division_result.txt', err_log='division_errors.log'):\n",
        "\n",
        "    logging.basicConfig(filename=err_log,\n",
        "                        level=logging.ERROR,\n",
        "                        format='%(asctime)s %(levelname)s: %(message)s')\n",
        "    try:\n",
        "        a = input(\"Enter numerator: \").strip()\n",
        "        b = input(\"Enter denominator: \").strip()\n",
        "        num = float(a)\n",
        "        den = float(b)\n",
        "        result = num / den\n",
        "    except ValueError as e:\n",
        "        logging.exception(\"Invalid input for numbers\")\n",
        "        print(\"Invalid input. Please enter valid numeric values (e.g. 12 or 3.5).\")\n",
        "        return\n",
        "    except ZeroDivisionError as e:\n",
        "        logging.exception(\"Attempt to divide by zero\")\n",
        "        print(\"Division by zero is not allowed.\")\n",
        "        return\n",
        "    except Exception as e:\n",
        "        logging.exception(\"Unexpected error during division\")\n",
        "        print(\"An unexpected error occurred. Check the log file for details.\")\n",
        "        return\n",
        "\n",
        "\n",
        "    with open(out_file, 'w', encoding='utf-8') as f:\n",
        "        f.write(f\"{num} / {den} = {result}\\n\")\n",
        "    print(f\"Result written to '{out_file}': {num} / {den} = {result}\")\n",
        "\n",
        "\n",
        "safe_division_logger()\n"
      ],
      "metadata": {
        "colab": {
          "base_uri": "https://localhost:8080/"
        },
        "id": "AlRQpjgHBPP7",
        "outputId": "981d12ea-5870-4361-b106-dcf9004c23f0"
      },
      "execution_count": 6,
      "outputs": [
        {
          "output_type": "stream",
          "name": "stdout",
          "text": [
            "Enter numerator: 4\n",
            "Enter denominator: 5\n",
            "Result written to 'division_result.txt': 4.0 / 5.0 = 0.8\n"
          ]
        }
      ]
    },
    {
      "cell_type": "markdown",
      "source": [
        "Error Email Logger (Conceptual / simulated)"
      ],
      "metadata": {
        "id": "Oevlbn3iBlKk"
      }
    },
    {
      "cell_type": "code",
      "source": [
        "\n",
        "import logging\n",
        "import traceback\n",
        "import datetime\n",
        "\n",
        "\n",
        "logging.basicConfig(filename='errors.log',\n",
        "                    level=logging.ERROR,\n",
        "                    format='%(asctime)s %(levelname)s: %(message)s')\n",
        "\n",
        "def mock_send_email(to, subject, body):\n",
        "    \"\"\"Simulated email sender - prints the 'email' to the notebook output.\"\"\"\n",
        "    print(\"\\n--- MOCK EMAIL ALERT ---\")\n",
        "    print(f\"To: {to}\")\n",
        "    print(f\"Subject: {subject}\")\n",
        "    print(\"Body:\")\n",
        "    print(body)\n",
        "    print(\"--- END OF MOCK EMAIL ---\\n\")\n",
        "\n",
        "def exception_logger(func):\n",
        "    \"\"\"Decorator that logs exceptions to a file and simulates sending email alerts.\"\"\"\n",
        "    def wrapper(*args, **kwargs):\n",
        "        try:\n",
        "            return func(*args, **kwargs)\n",
        "        except Exception as e:\n",
        "            tb = traceback.format_exc()\n",
        "            logging.error(f\"Exception in {func.__name__}: {e}\\n{tb}\")\n",
        "            subject = f\"[ALERT] Exception in {func.__name__}\"\n",
        "            body = f\"Time: {datetime.datetime.now()}\\nFunction: {func.__name__}\\nError: {e}\\n\\nTraceback:\\n{tb}\"\n",
        "            mock_send_email(\"admin@example.com\", subject, body)\n",
        "\n",
        "            return None\n",
        "    return wrapper\n",
        "\n",
        "\n",
        "@exception_logger\n",
        "def demo_error_prone(a, b):\n",
        "\n",
        "    return a / b\n",
        "\n",
        "\n",
        "print(\"Calling demo_error_prone(5, 0) to trigger an exception:\")\n",
        "demo_error_prone(5, 0)\n",
        "\n",
        "\n",
        "print(\"Calling demo_error_prone(10,2):\", demo_error_prone(10, 2))\n"
      ],
      "metadata": {
        "colab": {
          "base_uri": "https://localhost:8080/"
        },
        "id": "sHvCKkB4BpU7",
        "outputId": "e55abd81-e0ef-405f-cf6a-679a72c3a029"
      },
      "execution_count": 8,
      "outputs": [
        {
          "output_type": "stream",
          "name": "stderr",
          "text": [
            "ERROR:root:Exception in demo_error_prone: division by zero\n",
            "Traceback (most recent call last):\n",
            "  File \"/tmp/ipython-input-919744820.py\", line 23, in wrapper\n",
            "    return func(*args, **kwargs)\n",
            "           ^^^^^^^^^^^^^^^^^^^^^\n",
            "  File \"/tmp/ipython-input-919744820.py\", line 38, in demo_error_prone\n",
            "    return a / b\n",
            "           ~~^~~\n",
            "ZeroDivisionError: division by zero\n",
            "\n"
          ]
        },
        {
          "output_type": "stream",
          "name": "stdout",
          "text": [
            "Calling demo_error_prone(5, 0) to trigger an exception:\n",
            "\n",
            "--- MOCK EMAIL ALERT ---\n",
            "To: admin@example.com\n",
            "Subject: [ALERT] Exception in demo_error_prone\n",
            "Body:\n",
            "Time: 2025-09-29 15:13:59.509523\n",
            "Function: demo_error_prone\n",
            "Error: division by zero\n",
            "\n",
            "Traceback:\n",
            "Traceback (most recent call last):\n",
            "  File \"/tmp/ipython-input-919744820.py\", line 23, in wrapper\n",
            "    return func(*args, **kwargs)\n",
            "           ^^^^^^^^^^^^^^^^^^^^^\n",
            "  File \"/tmp/ipython-input-919744820.py\", line 38, in demo_error_prone\n",
            "    return a / b\n",
            "           ~~^~~\n",
            "ZeroDivisionError: division by zero\n",
            "\n",
            "--- END OF MOCK EMAIL ---\n",
            "\n",
            "Calling demo_error_prone(10,2): 5.0\n"
          ]
        }
      ]
    }
  ]
}