{
  "nbformat": 4,
  "nbformat_minor": 0,
  "metadata": {
    "colab": {
      "provenance": []
    },
    "kernelspec": {
      "name": "python3",
      "display_name": "Python 3"
    },
    "language_info": {
      "name": "python"
    }
  },
  "cells": [
    {
      "cell_type": "markdown",
      "source": [
        "Activity1\n"
      ],
      "metadata": {
        "id": "wk7NkyCx8CWs"
      }
    },
    {
      "cell_type": "code",
      "source": [
        "print(1 + 3)\n",
        "print(10 / 2)\n",
        "print(5 ** 2)"
      ],
      "metadata": {
        "colab": {
          "base_uri": "https://localhost:8080/"
        },
        "id": "DJQuVlhl8JJL",
        "outputId": "0e681f68-7d9a-437a-f1a0-fbe9196912ac"
      },
      "execution_count": 8,
      "outputs": [
        {
          "output_type": "stream",
          "name": "stdout",
          "text": [
            "4\n",
            "5.0\n",
            "25\n"
          ]
        }
      ]
    },
    {
      "cell_type": "markdown",
      "source": [
        "Activity2"
      ],
      "metadata": {
        "id": "Ci20wsKg8TUz"
      }
    },
    {
      "cell_type": "code",
      "source": [
        "print(\"python\" + \" basics\")\n",
        "print(\"AI \" * 3)"
      ],
      "metadata": {
        "colab": {
          "base_uri": "https://localhost:8080/"
        },
        "id": "NUhZvfH38VQU",
        "outputId": "6719f5c8-3c55-4465-ba22-aff0f520cbc5"
      },
      "execution_count": 9,
      "outputs": [
        {
          "output_type": "stream",
          "name": "stdout",
          "text": [
            "python basics\n",
            "AI AI AI \n"
          ]
        }
      ]
    },
    {
      "cell_type": "markdown",
      "source": [
        "Activity3"
      ],
      "metadata": {
        "id": "d3UWZ3Wv8ZuE"
      }
    },
    {
      "cell_type": "code",
      "source": [
        "fruit = \"apple\"\n",
        "print(fruit)\n",
        "fruit = 17\n",
        "print(fruit)\n",
        "x = str(3); y = int(3); z = float(3)\n",
        "print(type(x), type(y), type(z))"
      ],
      "metadata": {
        "colab": {
          "base_uri": "https://localhost:8080/"
        },
        "id": "bfxmYvfB9IQk",
        "outputId": "832bb11f-f94c-4208-f612-76ff1f2a7af6"
      },
      "execution_count": 11,
      "outputs": [
        {
          "output_type": "stream",
          "name": "stdout",
          "text": [
            "apple\n",
            "17\n",
            "<class 'str'> <class 'int'> <class 'float'>\n"
          ]
        }
      ]
    },
    {
      "cell_type": "markdown",
      "source": [
        "Activity4"
      ],
      "metadata": {
        "id": "BDD39CZv9PLr"
      }
    },
    {
      "cell_type": "code",
      "source": [
        "mylist = [\"apple\", 34.5, \"banana\", 9]\n",
        "print(\"Complete list:\", mylist)\n",
        "print(\"First element:\", mylist[0])\n",
        "print(\"Last element:\", mylist[-1])\n",
        "print(\"Sublist from index 1 to 2:\", mylist[1:3])\n",
        "print(\"Every second element:\", mylist[::2])\n",
        "mylist.append(\"grape\")\n",
        "print(\"List after appending 'grape':\", mylist)\n",
        "mylist.remove(\"banana\")\n",
        "print(\"List after removing 'banana':\", mylist)\n",
        "mylist[1] = 99.9\n",
        "print(\"List after updating index 1:\", mylist)\n",
        "\n"
      ],
      "metadata": {
        "colab": {
          "base_uri": "https://localhost:8080/"
        },
        "id": "wPflbOk-9R66",
        "outputId": "77536d80-7627-4fd3-80cd-13f3403ecb64"
      },
      "execution_count": 12,
      "outputs": [
        {
          "output_type": "stream",
          "name": "stdout",
          "text": [
            "Complete list: ['apple', 34.5, 'banana', 9]\n",
            "First element: apple\n",
            "Last element: 9\n",
            "Sublist from index 1 to 2: [34.5, 'banana']\n",
            "Every second element: ['apple', 'banana']\n",
            "List after appending 'grape': ['apple', 34.5, 'banana', 9, 'grape']\n",
            "List after removing 'banana': ['apple', 34.5, 9, 'grape']\n",
            "List after updating index 1: ['apple', 99.9, 9, 'grape']\n"
          ]
        }
      ]
    },
    {
      "cell_type": "markdown",
      "source": [
        "Activity5"
      ],
      "metadata": {
        "id": "nWpUi62rQOgI"
      }
    },
    {
      "cell_type": "code",
      "source": [
        "car = {\"brand\": \"Ford\", \"model\": \"Mustang\", \"year\": 1964}\n",
        "print(\"Initial dictionary:\", car)\n",
        "print(\"Model of the car:\", car[\"model\"])\n",
        "car[\"year\"] = 2024\n",
        "print(\"After updating 'year':\", car)\n",
        "car[\"color\"] = \"red\"\n",
        "print(\"After adding a new key 'color':\", car)\n",
        "removed_value = car.pop(\"model\")\n",
        "print(\"Removed 'model' key with value:\", removed_value)\n",
        "print(\"Dictionary after pop operation:\", car)\n",
        "last_item = car.popitem()\n",
        "print(\"Removed the last inserted item:\", last_item)\n",
        "print(\"Dictionary after popitem:\", car)\n",
        "print(\"Get 'brand' safely:\", car.get(\"brand\"))\n",
        "print(\"Get non-existing key safely (returns None):\", car.get(\"engine\"))\n",
        "print(\"All keys:\", car.keys())\n",
        "print(\"All values:\", car.values())\n",
        "print(\"All items (key–value pairs):\", car.items())\n",
        "car_copy = car.copy()\n",
        "print(\"Shallow copy of dictionary:\", car_copy)\n",
        "car.clear()\n",
        "print(\"Dictionary after clearing all items:\", car)"
      ],
      "metadata": {
        "colab": {
          "base_uri": "https://localhost:8080/"
        },
        "id": "vHtIWb-pQR3B",
        "outputId": "259c5bfb-8361-4b02-bf5a-30ba44ff2cfa"
      },
      "execution_count": 13,
      "outputs": [
        {
          "output_type": "stream",
          "name": "stdout",
          "text": [
            "Initial dictionary: {'brand': 'Ford', 'model': 'Mustang', 'year': 1964}\n",
            "Model of the car: Mustang\n",
            "After updating 'year': {'brand': 'Ford', 'model': 'Mustang', 'year': 2024}\n",
            "After adding a new key 'color': {'brand': 'Ford', 'model': 'Mustang', 'year': 2024, 'color': 'red'}\n",
            "Removed 'model' key with value: Mustang\n",
            "Dictionary after pop operation: {'brand': 'Ford', 'year': 2024, 'color': 'red'}\n",
            "Removed the last inserted item: ('color', 'red')\n",
            "Dictionary after popitem: {'brand': 'Ford', 'year': 2024}\n",
            "Get 'brand' safely: Ford\n",
            "Get non-existing key safely (returns None): None\n",
            "All keys: dict_keys(['brand', 'year'])\n",
            "All values: dict_values(['Ford', 2024])\n",
            "All items (key–value pairs): dict_items([('brand', 'Ford'), ('year', 2024)])\n",
            "Shallow copy of dictionary: {'brand': 'Ford', 'year': 2024}\n",
            "Dictionary after clearing all items: {}\n"
          ]
        }
      ]
    },
    {
      "cell_type": "markdown",
      "source": [
        "Actvity6"
      ],
      "metadata": {
        "id": "N345qyGuRgos"
      }
    },
    {
      "cell_type": "code",
      "source": [
        "thisset = {\"apple\", \"banana\", \"cherry\"}\n",
        "print(\"Initial set:\", thisset)\n",
        "set1 = {\"abc\", 34, True, 40, \"male\"}\n",
        "print(\"Mixed-type set:\", set1)\n",
        "thisset.add(\"orange\")\n",
        "print(\"After adding 'orange':\", thisset)\n",
        "thisset.update([\"grape\", \"mango\"])\n",
        "print(\"After adding multiple elements:\", thisset)\n",
        "thisset.remove(\"banana\")\n",
        "print(\"After removing 'banana':\", thisset)\n",
        "thisset.discard(\"papaya\")\n",
        "print(\"After attempting to discard 'papaya' (not present):\", thisset)\n",
        "removed_item = thisset.pop()\n",
        "print(\"Removed an arbitrary element:\", removed_item)\n",
        "print(\"Set after pop operation:\", thisset)\n",
        "print(\"Is 'apple' in the set?\", \"apple\" in thisset)\n",
        "union_set = thisset.union(set1)\n",
        "print(\"Union of thisset and set1:\", union_set)\n",
        "intersection_set = thisset.intersection(set1)\n",
        "print(\"Intersection of thisset and set1:\", intersection_set)\n",
        "difference_set = thisset.difference(set1)\n",
        "print(\"Difference (thisset - set1):\", difference_set)\n",
        "copy_set = thisset.copy()\n",
        "print(\"Copy of the set:\", copy_set)\n",
        "thisset.clear()\n",
        "print(\"Set after clearing all elements:\", thisset)\n"
      ],
      "metadata": {
        "colab": {
          "base_uri": "https://localhost:8080/"
        },
        "id": "AMSHX-2ARj2z",
        "outputId": "c1980d3a-53b3-47b7-fa9b-7436cb00dec2"
      },
      "execution_count": 14,
      "outputs": [
        {
          "output_type": "stream",
          "name": "stdout",
          "text": [
            "Initial set: {'cherry', 'apple', 'banana'}\n",
            "Mixed-type set: {True, 34, 'abc', 40, 'male'}\n",
            "After adding 'orange': {'orange', 'cherry', 'apple', 'banana'}\n",
            "After adding multiple elements: {'grape', 'mango', 'cherry', 'banana', 'apple', 'orange'}\n",
            "After removing 'banana': {'grape', 'mango', 'cherry', 'apple', 'orange'}\n",
            "After attempting to discard 'papaya' (not present): {'grape', 'mango', 'cherry', 'apple', 'orange'}\n",
            "Removed an arbitrary element: grape\n",
            "Set after pop operation: {'mango', 'cherry', 'apple', 'orange'}\n",
            "Is 'apple' in the set? True\n",
            "Union of thisset and set1: {True, 34, 'mango', 40, 'male', 'cherry', 'abc', 'apple', 'orange'}\n",
            "Intersection of thisset and set1: set()\n",
            "Difference (thisset - set1): {'apple', 'cherry', 'mango', 'orange'}\n",
            "Copy of the set: {'apple', 'cherry', 'mango', 'orange'}\n",
            "Set after clearing all elements: set()\n"
          ]
        }
      ]
    },
    {
      "cell_type": "markdown",
      "source": [
        "Activity7"
      ],
      "metadata": {
        "id": "W9JUzjQbSppK"
      }
    },
    {
      "cell_type": "code",
      "source": [
        "thistuple = (\"apple\", \"banana\", \"cherry\")\n",
        "print(thistuple[1])"
      ],
      "metadata": {
        "colab": {
          "base_uri": "https://localhost:8080/"
        },
        "id": "oRo_uSrHSrlC",
        "outputId": "bc7dc3e2-913b-46cd-f186-5377035bf027"
      },
      "execution_count": 15,
      "outputs": [
        {
          "output_type": "stream",
          "name": "stdout",
          "text": [
            "banana\n"
          ]
        }
      ]
    },
    {
      "cell_type": "markdown",
      "source": [
        "Activity8"
      ],
      "metadata": {
        "id": "mzMeMbx8Sxs5"
      }
    },
    {
      "cell_type": "code",
      "source": [
        "a, b = 33, 200\n",
        "if b > a:\n",
        "  print(\"b is greater than a\")\n",
        "elif a == b:\n",
        "  print(\"a and b are equal\")\n",
        "else:\n",
        "  print(\"a is greater than b\")\n",
        "\n"
      ],
      "metadata": {
        "colab": {
          "base_uri": "https://localhost:8080/"
        },
        "id": "SfyNBjhhS4Ew",
        "outputId": "91472023-2610-456c-ed7a-73b50f90ac45"
      },
      "execution_count": 19,
      "outputs": [
        {
          "output_type": "stream",
          "name": "stdout",
          "text": [
            "b is greater than a\n"
          ]
        }
      ]
    },
    {
      "cell_type": "markdown",
      "source": [
        "Activty9"
      ],
      "metadata": {
        "id": "26LHj77VTedy"
      }
    },
    {
      "cell_type": "code",
      "source": [
        "for i in range(5):\n",
        "   print(\"Number:\", i)\n",
        "for i in range(2, 7):\n",
        "   print(\"From 2 to 6:\", i)\n",
        "for i in range(0, 10, 2):\n",
        "   print(\"Even number:\", i)\n",
        "for i in range(5, 0, -1):\n",
        "   print(\"Countdown:\", i)\n",
        "fruits = [\"apple\", \"banana\", \"cherry\"]\n",
        "for index in range(len(fruits)):\n",
        "   print(\"Index:\", index, \"Fruit:\", fruits[index])\n",
        "for i in range(10):\n",
        "   if i % 2 != 0:\n",
        "    print(\"Odd number:\", i)\n",
        ""
      ],
      "metadata": {
        "colab": {
          "base_uri": "https://localhost:8080/"
        },
        "id": "oCr8KFH2ThNY",
        "outputId": "19ee6c77-9dae-4d1b-e8b1-58ee61c34fdf"
      },
      "execution_count": 20,
      "outputs": [
        {
          "output_type": "stream",
          "name": "stdout",
          "text": [
            "Number: 0\n",
            "Number: 1\n",
            "Number: 2\n",
            "Number: 3\n",
            "Number: 4\n",
            "From 2 to 6: 2\n",
            "From 2 to 6: 3\n",
            "From 2 to 6: 4\n",
            "From 2 to 6: 5\n",
            "From 2 to 6: 6\n",
            "Even number: 0\n",
            "Even number: 2\n",
            "Even number: 4\n",
            "Even number: 6\n",
            "Even number: 8\n",
            "Countdown: 5\n",
            "Countdown: 4\n",
            "Countdown: 3\n",
            "Countdown: 2\n",
            "Countdown: 1\n",
            "Index: 0 Fruit: apple\n",
            "Index: 1 Fruit: banana\n",
            "Index: 2 Fruit: cherry\n",
            "Odd number: 1\n",
            "Odd number: 3\n",
            "Odd number: 5\n",
            "Odd number: 7\n",
            "Odd number: 9\n"
          ]
        }
      ]
    },
    {
      "cell_type": "markdown",
      "source": [
        "Activity10"
      ],
      "metadata": {
        "id": "lO4xYKrXUeCg"
      }
    },
    {
      "cell_type": "code",
      "source": [
        "def my_function(fname, lname):\n",
        "  print(\"Full name:\", fname + \" \" + lname)\n",
        "my_function(\"Emil\", \"Refsnes\")\n",
        "def kids_function(*kids):\n",
        "  print(\"The youngest child is:\", kids[2])\n",
        "kids_function(\"Emil\", \"Tobias\", \"Linus\")\n",
        "def greet_user(name=\"Guest\"):\n",
        " print(\"Hello,\", name)\n",
        "greet_user()\n",
        "greet_user(\"Alice\")\n",
        "def describe_pet(**pet_info):\n",
        "  print(\"Pet details:\")\n",
        "  for key, value in pet_info.items():\n",
        "    print(key.capitalize() + \":\", value)\n",
        "describe_pet(animal='dog', breed='labrador', age=5)\n",
        "def add_numbers(a, b):\n",
        "  return a + b\n",
        "result = add_numbers(10, 20)\n",
        "print(\"Sum of numbers:\", result)"
      ],
      "metadata": {
        "colab": {
          "base_uri": "https://localhost:8080/"
        },
        "id": "LibJmDvkUgS4",
        "outputId": "e17f651f-cbe3-4402-9ed3-d3ddaa316ccb"
      },
      "execution_count": 22,
      "outputs": [
        {
          "output_type": "stream",
          "name": "stdout",
          "text": [
            "Full name: Emil Refsnes\n",
            "The youngest child is: Linus\n",
            "Hello, Guest\n",
            "Hello, Alice\n",
            "Pet details:\n",
            "Animal: dog\n",
            "Breed: labrador\n",
            "Age: 5\n",
            "Sum of numbers: 30\n"
          ]
        }
      ]
    },
    {
      "cell_type": "markdown",
      "source": [
        "1. Check if a number is prime"
      ],
      "metadata": {
        "id": "cXvaYrUjWO35"
      }
    },
    {
      "cell_type": "code",
      "source": [
        "def is_prime(n):\n",
        "    if n <= 1:\n",
        "        return False\n",
        "    for i in range(2, int(n**0.5) + 1):\n",
        "        if n % i == 0:\n",
        "            return False\n",
        "    return True\n",
        "\n",
        "num = int(input(\"Enter a number: \"))\n",
        "if is_prime(num):\n",
        "    print(f\"{num} is a prime number\")\n",
        "else:\n",
        "    print(f\"{num} is not a prime number\")"
      ],
      "metadata": {
        "colab": {
          "base_uri": "https://localhost:8080/"
        },
        "id": "mhJXFzBNWy9F",
        "outputId": "30608a5a-5b10-49dc-be0d-1e4b46912fc7"
      },
      "execution_count": 23,
      "outputs": [
        {
          "output_type": "stream",
          "name": "stdout",
          "text": [
            "Enter a number: 3\n",
            "3 is a prime number\n"
          ]
        }
      ]
    },
    {
      "cell_type": "markdown",
      "source": [
        "2. List average of 10 numbers"
      ],
      "metadata": {
        "id": "QPurRuusW7p1"
      }
    },
    {
      "cell_type": "code",
      "source": [
        "numbers = [12, 15, 18, 21, 24, 27, 30, 33, 36, 39]\n",
        "average = sum(numbers) / len(numbers)\n",
        "print(f\"Average: {average}\")"
      ],
      "metadata": {
        "colab": {
          "base_uri": "https://localhost:8080/"
        },
        "id": "2E40HbCwW_Zw",
        "outputId": "3648f181-c01d-412f-8108-8200ccc7c006"
      },
      "execution_count": 24,
      "outputs": [
        {
          "output_type": "stream",
          "name": "stdout",
          "text": [
            "Average: 25.5\n"
          ]
        }
      ]
    },
    {
      "cell_type": "markdown",
      "source": [
        "3. Student marks dictionary and topper"
      ],
      "metadata": {
        "id": "Cv3ovLJ7XDov"
      }
    },
    {
      "cell_type": "code",
      "source": [
        "students = {\n",
        "    \"Alice\": 85,\n",
        "    \"Bob\": 92,\n",
        "    \"Charlie\": 78,\n",
        "    \"David\": 95,\n",
        "    \"Eve\": 88\n",
        "}\n",
        "\n",
        "topper = max(students, key=students.get)\n",
        "print(f\"Topper: {topper} with {students[topper]} marks\")"
      ],
      "metadata": {
        "colab": {
          "base_uri": "https://localhost:8080/"
        },
        "id": "jlsZAHPkXHRe",
        "outputId": "e1d99dad-cb8d-4b77-e6f8-a7501a387bbe"
      },
      "execution_count": 25,
      "outputs": [
        {
          "output_type": "stream",
          "name": "stdout",
          "text": [
            "Topper: David with 95 marks\n"
          ]
        }
      ]
    },
    {
      "cell_type": "markdown",
      "source": [
        "4. Set operations"
      ],
      "metadata": {
        "id": "0qoOi3G4XLgP"
      }
    },
    {
      "cell_type": "code",
      "source": [
        "set1 = {1, 2, 3, 4, 5}\n",
        "set2 = {4, 5, 6, 7, 8}\n",
        "\n",
        "print(\"Union:\", set1 | set2)\n",
        "print(\"Intersection:\", set1 & set2)\n",
        "print(\"Difference (set1 - set2):\", set1 - set2)"
      ],
      "metadata": {
        "colab": {
          "base_uri": "https://localhost:8080/"
        },
        "id": "SGIuvFa_XOjG",
        "outputId": "21d7705d-f9f6-489f-d823-ea1a4bfe96c6"
      },
      "execution_count": 26,
      "outputs": [
        {
          "output_type": "stream",
          "name": "stdout",
          "text": [
            "Union: {1, 2, 3, 4, 5, 6, 7, 8}\n",
            "Intersection: {4, 5}\n",
            "Difference (set1 - set2): {1, 2, 3}\n"
          ]
        }
      ]
    },
    {
      "cell_type": "markdown",
      "source": [
        "5. Factorial using recursion"
      ],
      "metadata": {
        "id": "nCeA2EgAXRjH"
      }
    },
    {
      "cell_type": "code",
      "source": [
        "def factorial(n):\n",
        "    if n == 0:\n",
        "        return 1\n",
        "    else:\n",
        "        return n * factorial(n - 1)\n",
        "\n",
        "num = 5\n",
        "print(f\"Factorial of {num} is {factorial(num)}\")"
      ],
      "metadata": {
        "colab": {
          "base_uri": "https://localhost:8080/"
        },
        "id": "nYhu0zndXU03",
        "outputId": "2b00b3ec-f11f-443f-aab3-ca8d7f27bdb1"
      },
      "execution_count": 27,
      "outputs": [
        {
          "output_type": "stream",
          "name": "stdout",
          "text": [
            "Factorial of 5 is 120\n"
          ]
        }
      ]
    },
    {
      "cell_type": "markdown",
      "source": [
        "6. Fibonacci series using for loop"
      ],
      "metadata": {
        "id": "KIkxdZEtXXrP"
      }
    },
    {
      "cell_type": "code",
      "source": [
        "n = 10\n",
        "a, b = 0, 1\n",
        "print(\"Fibonacci series:\")\n",
        "for _ in range(n):\n",
        "    print(a, end=' ')\n",
        "    a, b = b, a + b"
      ],
      "metadata": {
        "colab": {
          "base_uri": "https://localhost:8080/"
        },
        "id": "uHG8njNKXaVQ",
        "outputId": "411d1632-c72f-457d-b7b7-adaf9b38544e"
      },
      "execution_count": 28,
      "outputs": [
        {
          "output_type": "stream",
          "name": "stdout",
          "text": [
            "Fibonacci series:\n",
            "0 1 1 2 3 5 8 13 21 34 "
          ]
        }
      ]
    },
    {
      "cell_type": "markdown",
      "source": [
        "7. Count vowels in a string"
      ],
      "metadata": {
        "id": "J3h-JCoAXd6f"
      }
    },
    {
      "cell_type": "code",
      "source": [
        "text = \"Hello World\"\n",
        "vowels = \"aeiouAEIOU\"\n",
        "count = 0\n",
        "for char in text:\n",
        "    if char in vowels:\n",
        "        count += 1\n",
        "print(f\"Number of vowels: {count}\")"
      ],
      "metadata": {
        "colab": {
          "base_uri": "https://localhost:8080/"
        },
        "id": "d8eS6b7gXgUQ",
        "outputId": "58e105b2-aca2-4dbc-ab8b-7e9a6e95dc64"
      },
      "execution_count": 29,
      "outputs": [
        {
          "output_type": "stream",
          "name": "stdout",
          "text": [
            "Number of vowels: 3\n"
          ]
        }
      ]
    },
    {
      "cell_type": "markdown",
      "source": [
        "8. Tuple max and min"
      ],
      "metadata": {
        "id": "Y9GCIc0aXoR9"
      }
    },
    {
      "cell_type": "code",
      "source": [
        "numbers = (45, 12, 78, 23, 56, 89, 34)\n",
        "print(f\"Maximum: {max(numbers)}\")\n",
        "print(f\"Minimum: {min(numbers)}\")"
      ],
      "metadata": {
        "colab": {
          "base_uri": "https://localhost:8080/"
        },
        "id": "1UNoFMHWXq02",
        "outputId": "e72fa967-293a-407a-e10f-24c0329b6c91"
      },
      "execution_count": 30,
      "outputs": [
        {
          "output_type": "stream",
          "name": "stdout",
          "text": [
            "Maximum: 89\n",
            "Minimum: 12\n"
          ]
        }
      ]
    },
    {
      "cell_type": "markdown",
      "source": [
        "9. Reverse user input string"
      ],
      "metadata": {
        "id": "jK0y6b4IXt5O"
      }
    },
    {
      "cell_type": "code",
      "source": [
        "text = input(\"Enter a string: \")\n",
        "reversed_text = text[::-1]\n",
        "print(f\"Reversed string: {reversed_text}\")"
      ],
      "metadata": {
        "colab": {
          "base_uri": "https://localhost:8080/"
        },
        "id": "sgjxVRADXxHO",
        "outputId": "c8e90afb-c806-41a2-fb7d-d206613c418f"
      },
      "execution_count": 31,
      "outputs": [
        {
          "output_type": "stream",
          "name": "stdout",
          "text": [
            "Enter a string: javed\n",
            "Reversed string: devaj\n"
          ]
        }
      ]
    }
  ]
}